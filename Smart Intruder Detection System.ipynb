{
 "cells": [
  {
   "cell_type": "markdown",
   "metadata": {},
   "source": [
    "# <center><font style=\"color:blue\"> Building a Smart Intruder Detection Surveillance System with OpenCV and Phone  </font> </center>"
   ]
  },
  {
   "cell_type": "code",
   "execution_count": null,
   "metadata": {},
   "outputs": [],
   "source": [
    "# Import the required libraries\n",
    "import numpy as np\n",
    "import cv2\n",
    "import time\n",
    "import datetime\n",
    "from collections import deque"
   ]
  },
  {
   "cell_type": "markdown",
   "metadata": {},
   "source": [
    "## Reading from your Phone's IP Camera"
   ]
  },
  {
   "cell_type": "code",
   "execution_count": null,
   "metadata": {},
   "outputs": [],
   "source": [
    "# Set Window normal so we can resize it\n",
    "cv2.namedWindow('frame', cv2.WINDOW_NORMAL)\n",
    "\n",
    "# Note the starting time\n",
    "start_time = time.time()\n",
    "\n",
    "# Initialize these variables for calculating FPS\n",
    "fps = 0 \n",
    "frame_counter = 0\n",
    "\n",
    "# Read the video steram from the camera\n",
    "cap = cv2.VideoCapture('http://192.168.123.178:8080/video')\n",
    "\n",
    "while(True):\n",
    "    \n",
    "    ret, frame = cap.read()\n",
    "    if not ret:\n",
    "        break \n",
    "    \n",
    "    # Calculate the Average FPS\n",
    "    frame_counter += 1\n",
    "    fps = (frame_counter / (time.time() - start_time))\n",
    "    \n",
    "    # Display the FPS\n",
    "    cv2.putText(frame, 'FPS: {:.2f}'.format(fps), (20, 20), cv2.FONT_HERSHEY_SIMPLEX, 0.6, (0, 0, 255),1)\n",
    "    \n",
    "    # Show the Frame\n",
    "    cv2.imshow('frame',frame)\n",
    "    \n",
    "    # Exit if q is pressed.\n",
    "    if cv2.waitKey(1) == ord('q'):\n",
    "        break\n",
    "\n",
    "# Release Capture and destroy windows\n",
    "cap.release()\n",
    "cv2.destroyAllWindows()"
   ]
  },
  {
   "cell_type": "markdown",
   "metadata": {},
   "source": [
    "## Sending message with Twilio API"
   ]
  },
  {
   "cell_type": "code",
   "execution_count": null,
   "metadata": {},
   "outputs": [],
   "source": [
    "from twilio.rest import Client\n",
    "\n",
    "# Read text from the credentials file and store in data variable\n",
    "with open('credentials.txt', 'r') as myfile:\n",
    "  data = myfile.read()\n",
    "\n",
    "# Convert data variable into dictionary\n",
    "info_dict = eval(data)\n",
    "\n",
    "# Your Account SID from twilio.com/console\n",
    "account_sid = info_dict['account_sid']\n",
    "\n",
    "# Your Auth Token from twilio.com/console\n",
    "auth_token  = info_dict['auth_token']\n",
    "\n",
    "# Set client and send the message\n",
    "client = Client(account_sid, auth_token)\n",
    "message = client.messages.create( to =info_dict['your_num'], from_ = info_dict['trial_num'], body= \"What's Up Man\")"
   ]
  },
  {
   "cell_type": "markdown",
   "metadata": {},
   "source": [
    "## Background Subtraction"
   ]
  },
  {
   "cell_type": "code",
   "execution_count": null,
   "metadata": {},
   "outputs": [],
   "source": [
    "# load a video\n",
    "cap = cv2.VideoCapture('my sample video.mp4')\n",
    "\n",
    "# Create the background subtractor object\n",
    "foog = cv2.createBackgroundSubtractorMOG2( detectShadows = True, varThreshold = 50, history = 2800)\n",
    "\n",
    "while(1):\n",
    "    \n",
    "    ret, frame = cap.read() \n",
    "    if not ret:\n",
    "        break\n",
    "        \n",
    "    # Apply the background object on each frame\n",
    "    fgmask = foog.apply(frame)\n",
    "    \n",
    "    # Get rid of the shadows\n",
    "    ret, fgmask = cv2.threshold(fgmask, 250, 255, cv2.THRESH_BINARY)\n",
    "    \n",
    "    # Show the background subtraction frame.\n",
    "    cv2.imshow('All three',fgmask)\n",
    "    k = cv2.waitKey(10)\n",
    "    if k == 27: \n",
    "        break\n",
    "\n",
    "cap.release()\n",
    "cv2.destroyAllWindows()"
   ]
  }
 ],
 "metadata": {
  "kernelspec": {
   "display_name": "Python 3",
   "language": "python",
   "name": "python3"
  },
  "language_info": {
   "codemirror_mode": {
    "name": "ipython",
    "version": 3
   },
   "file_extension": ".py",
   "mimetype": "text/x-python",
   "name": "python",
   "nbconvert_exporter": "python",
   "pygments_lexer": "ipython3",
   "version": "3.8.5"
  }
 },
 "nbformat": 4,
 "nbformat_minor": 4
}
